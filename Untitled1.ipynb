{
 "cells": [
  {
   "cell_type": "code",
   "execution_count": 31,
   "metadata": {},
   "outputs": [
    {
     "name": "stdout",
     "output_type": "stream",
     "text": [
      "0.9958163261413574\n"
     ]
    }
   ],
   "source": [
    "\n",
    "list = []\n",
    "def increm(x):\n",
    "    return x+1\n",
    "import time\n",
    "for i in range(0,20):\n",
    "    start_time = time.time()\n",
    "\n",
    "    for i in range (0,6540000):\n",
    "        increm(i)\n",
    "    x = (time.time()-start_time)\n",
    "    list.append(x)\n",
    "print(sum(list)/20)\n"
   ]
  },
  {
   "cell_type": "code",
   "execution_count": null,
   "metadata": {},
   "outputs": [],
   "source": []
  }
 ],
 "metadata": {
  "kernelspec": {
   "display_name": "Python [conda env:parsl_py36]",
   "language": "python",
   "name": "conda-env-parsl_py36-py"
  },
  "language_info": {
   "codemirror_mode": {
    "name": "ipython",
    "version": 3
   },
   "file_extension": ".py",
   "mimetype": "text/x-python",
   "name": "python",
   "nbconvert_exporter": "python",
   "pygments_lexer": "ipython3",
   "version": "3.6.5"
  }
 },
 "nbformat": 4,
 "nbformat_minor": 2
}
