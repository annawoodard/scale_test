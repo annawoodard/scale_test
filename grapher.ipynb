{
 "cells": [
  {
   "cell_type": "code",
   "execution_count": null,
   "metadata": {},
   "outputs": [],
   "source": [
    "import grapher, scale_test\n",
    "import matplotlib.pyplot as plt\n",
    "number = 6\n",
    "trial = 3\n",
    "workers = -1\n",
    "nodes = -1"
   ]
  },
  {
   "cell_type": "code",
   "execution_count": null,
   "metadata": {},
   "outputs": [],
   "source": [
    "if nodes is -1:\n",
    "    scale_test.test(trial, number)\n",
    "if nodes is not -1:\n",
    "    scale_test.test_with_data(trial, number, wokers, nodes)\n",
    "    \n",
    "data = grapher.parser(trial, number)\n",
    "error = data[0]\n",
    "y_axis = data[1]\n",
    "x_axis = grapher.x_axis(number)"
   ]
  },
  {
   "cell_type": "code",
   "execution_count": null,
   "metadata": {},
   "outputs": [],
   "source": [
    "%matplotlib inline\n",
    "\n",
    "if nodes is -1:\n",
    "    plt.errorbar(x_axis, y_axis, yerr=e, fmt='o')\n",
    "    plt.xlabel(\"Workers\")\n",
    "    plt.ylabel(\"Time (seconds)\")\n",
    "    plt.title(\"Effect of Workers on Time\")\n",
    "    plt.show()\n",
    "    \n",
    "if nodes is not -1:\n",
    "    plt.errorbar(x_axis, y_axis, yerr=e, fmt='o')\n",
    "    plt.xlabel(\"Workers\")\n",
    "    plt.ylabel(\"Time (seconds) per 1000 tasks\")\n",
    "    plt.title(\"Effect of Workers and Nodes on Time\")\n",
    "    plt.show()"
   ]
  },
  {
   "cell_type": "code",
   "execution_count": null,
   "metadata": {},
   "outputs": [],
   "source": []
  }
 ],
 "metadata": {
  "kernelspec": {
   "display_name": "Python 3",
   "language": "python",
   "name": "python3"
  },
  "language_info": {
   "codemirror_mode": {
    "name": "ipython",
    "version": 3
   },
   "file_extension": ".py",
   "mimetype": "text/x-python",
   "name": "python",
   "nbconvert_exporter": "python",
   "pygments_lexer": "ipython3",
   "version": "3.6.5"
  }
 },
 "nbformat": 4,
 "nbformat_minor": 2
}
