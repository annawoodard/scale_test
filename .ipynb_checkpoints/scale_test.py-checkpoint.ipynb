{
 "cells": [
  {
   "cell_type": "code",
   "execution_count": null,
   "metadata": {},
   "outputs": [
    {
     "name": "stdout",
     "output_type": "stream",
     "text": [
      "hi\n"
     ]
    }
   ],
   "source": [
    "import itertools\n",
    "import time\n",
    "times = []\n",
    "import parsl\n",
    "from parsl import *\n",
    "from parsl.config import Config\n",
    "from parsl.executors.ipp import IPyParallelExecutor\n",
    "from libsubmit.channels.ssh.ssh import SSHChannel\n",
    "from libsubmit.providers.slurm.slurm import SlurmProvider\n",
    "from libsubmit import *\n",
    "myNum = 0\n",
    "myList = []\n",
    "num_tasks = 1000\n",
    "print(\"hi\")\n",
    "#parsl.set_stream_logger()\n",
    "#libsubmit.set_stream_logger()\n",
    "for init_nodes in range(1,1000):\n",
    "    if init_nodes%25 is not 0:\n",
    "        config = Config(\n",
    "            executors=[\n",
    "                IPyParallelExecutor(\n",
    "                    provider=SlurmProvider(\n",
    "                        'westmere',\n",
    "                        init_blocks=1,\n",
    "                        min_blocks=1,\n",
    "                        max_blocks=1,\n",
    "                        nodes_per_block=init_nodes,\n",
    "                        tasks_per_node=4,\n",
    "                        parallelism=0.5,\n",
    "                        overrides='module load Anaconda3/5.1.0; export PARSL_TESTING=True'\n",
    "                    ),\n",
    "                    label='midway_ipp'\n",
    "                )\n",
    "            ]\n",
    "        )\n",
    "        dfk = DataFlowKernel(config)\n",
    "\n",
    "\n",
    "        @App('python', dfk)\n",
    "        def increment(x):\n",
    "            return x + 1\n",
    "\n",
    "\n",
    "        def test_stress(count):\n",
    "            \"\"\"IPP app launch stress test\"\"\"\n",
    "            start = time.time()\n",
    "            x = {}\n",
    "            for i in range(count):\n",
    "                x[i] = increment(i)\n",
    "            end = time.time()\n",
    "            print(\"Launched {0} tasks in {1} s with {2} nodes per block\".format(count, end - start, init_nodes))\n",
    "            dfk.cleanup()\n",
    "            return((end-start)/1000)\n",
    "\n",
    "\n",
    "        times.append(test_stress(num_tasks))\n",
    "\n",
    "        myNum += 1\n",
    "        myList.append(myNum)\n",
    "        print(myList)\n",
    "        print(times)\n",
    "        if (init_nodes % 5 == 0) and (init_nodes is not 0):\n",
    "            thefile = open('initNodes' + str(init_nodes) + '.txt', 'w')\n",
    "            x = 0\n",
    "            for item in times:\n",
    "                thefile.write(\"{0} seconds on {1} nodes per block\".format(item, x))\n",
    "                x += 1 \n",
    "        if (init_nodes % 10 == 0) and (init_nodes is not 0):\n",
    "            #myList = [x+1 for x in mylist]\n",
    "            #myList = [x * 5 for x in myList]\n",
    "            #myList = list(chain.from_iterable([mean(myList[i:i+5])]*5 for i in range(0,len(myList),5)))\n",
    "            #myList = list(set(myList))\n",
    "            plt.plot(myList, times)\n",
    "            plt.xlabel(\"Nodes per Block\")\n",
    "            plt.ylabel(\"Time (seconds)\")\n",
    "            plt.title(\"Nodes per Block on Time\")\n",
    "            plt.show()\n",
    "    else:\n",
    "        print(\"skipped init_node \" + str(init_nodes))\n"
   ]
  },
  {
   "cell_type": "code",
   "execution_count": null,
   "metadata": {},
   "outputs": [],
   "source": []
  },
  {
   "cell_type": "code",
   "execution_count": null,
   "metadata": {},
   "outputs": [],
   "source": []
  }
 ],
 "metadata": {
  "kernelspec": {
   "display_name": "Python [default]",
   "language": "python",
   "name": "python3"
  },
  "language_info": {
   "codemirror_mode": {
    "name": "ipython",
    "version": 3
   },
   "file_extension": ".py",
   "mimetype": "text/x-python",
   "name": "python",
   "nbconvert_exporter": "python",
   "pygments_lexer": "ipython3",
   "version": "3.6.5"
  }
 },
 "nbformat": 4,
 "nbformat_minor": 2
}
